{
  "nbformat": 4,
  "nbformat_minor": 0,
  "metadata": {
    "colab": {
      "provenance": []
    },
    "kernelspec": {
      "name": "python3",
      "display_name": "Python 3"
    },
    "language_info": {
      "name": "python"
    }
  },
  "cells": [
    {
      "cell_type": "code",
      "execution_count": 1,
      "metadata": {
        "id": "3KRIu5KAigeW",
        "colab": {
          "base_uri": "https://localhost:8080/"
        },
        "outputId": "e15a40c8-7489-418c-e703-768fa3c6c36f"
      },
      "outputs": [
        {
          "output_type": "stream",
          "name": "stdout",
          "text": [
            "AND: False\n",
            "OR: True\n",
            "NOT: False\n",
            "IMPLIES: False\n"
          ]
        }
      ],
      "source": [
        "def and_(p, q):\n",
        "    return p and q\n",
        "\n",
        "\n",
        "def or_(p, q):\n",
        "    return p or q\n",
        "\n",
        "def not_(p):\n",
        "    return not p\n",
        "\n",
        "def implies_(p, q):\n",
        "    return not p or q\n",
        "\n",
        "p = True\n",
        "q = False\n",
        "\n",
        "print(f\"AND: {and_(p, q)}\")\n",
        "print(f\"OR: {or_(p, q)}\")\n",
        "print(f\"NOT: {not_(p)}\")\n",
        "print(f\"IMPLIES: {implies_(p, q)}\")\n",
        "\n",
        "def evaluate(statement, values):\n",
        "    for proposition, truth_value in values.items():\n",
        "        statement = statement.replace(proposition, str(truth_value))\n",
        "    return eval(statement)\n"
      ]
    },
    {
      "cell_type": "code",
      "source": [
        "def evaluate(statement, values):\n",
        "\n",
        "    for proposition, truth_value in values.items():\n",
        "\n",
        "        statement = statement.replace(proposition, str(truth_value))\n",
        "\n",
        "\n",
        "    statement = statement.replace(\"and\", \"&\")\n",
        "    statement = statement.replace(\"or\", \"|\")\n",
        "    statement = statement.replace(\"not\", \"~\")\n",
        "\n",
        "    return eval(statement)"
      ],
      "metadata": {
        "id": "vVzzYsndmQBY"
      },
      "execution_count": null,
      "outputs": []
    },
    {
      "cell_type": "code",
      "source": [
        "def forall(predicate, domain):\n",
        "    return all(predicate(x) for x in domain)\n",
        "\n",
        "def exists(predicate, domain):\n",
        "    return any(predicate(x) for x in domain)\n",
        "\n",
        "domain = [1, 2, 3, 4]\n",
        "\n",
        "predicate = lambda x: x > 0\n",
        "\n",
        "print(f\"For all x > 0: {forall(predicate, domain)}\")\n",
        "print(f\"Exists x > 2: {exists(lambda x: x > 2, domain)}\")"
      ],
      "metadata": {
        "colab": {
          "base_uri": "https://localhost:8080/"
        },
        "id": "9g2-ROaEmkeC",
        "outputId": "964b5ed0-84bf-4052-82b3-c8630d6565ff"
      },
      "execution_count": null,
      "outputs": [
        {
          "output_type": "stream",
          "name": "stdout",
          "text": [
            "For all x > 0: True\n",
            "Exists x > 2: True\n"
          ]
        }
      ]
    },
    {
      "cell_type": "code",
      "source": [
        "\n",
        "def ai_decision(environment_conditions):\n",
        "    move = \"\"\n",
        "    if and_(environment_conditions['is_safe'], environment_conditions['has_resources']):\n",
        "        move = \"Move Forward\"\n",
        "    elif not_(environment_conditions['is_safe']):\n",
        "        move = \"Stay\"\n",
        "    else:\n",
        "        move = \"Search for Resources\"\n",
        "    return move\n",
        "\n",
        "environment_conditions = {\n",
        "    'is_safe': True,\n",
        "    'has_resources': False\n",
        "}\n",
        "\n",
        "print(f\"AI Decision: {ai_decision(environment_conditions)}\")"
      ],
      "metadata": {
        "colab": {
          "base_uri": "https://localhost:8080/"
        },
        "id": "gjjMWDQQmm_S",
        "outputId": "3fb3b4bf-b6b6-4979-a17a-995dd1eca09c"
      },
      "execution_count": 2,
      "outputs": [
        {
          "output_type": "stream",
          "name": "stdout",
          "text": [
            "AI Decision: Search for Resources\n"
          ]
        }
      ]
    },
    {
      "cell_type": "code",
      "source": [],
      "metadata": {
        "id": "jRYm-bEGtu3F"
      },
      "execution_count": null,
      "outputs": []
    }
  ]
}