{
  "nbformat": 4,
  "nbformat_minor": 0,
  "metadata": {
    "colab": {
      "provenance": []
    },
    "kernelspec": {
      "name": "python3",
      "display_name": "Python 3"
    },
    "language_info": {
      "name": "python"
    }
  },
  "cells": [
    {
      "cell_type": "markdown",
      "source": [
        "# PART 1\n",
        "## Disease : Flu (Influenza)\n",
        "### Contributing Factors : Fever"
      ],
      "metadata": {
        "id": "Npgb5bHkj2Pd"
      }
    },
    {
      "cell_type": "markdown",
      "source": [
        "###PART 2"
      ],
      "metadata": {
        "id": "CnqDMqUtkXQp"
      }
    },
    {
      "cell_type": "code",
      "execution_count": 2,
      "metadata": {
        "colab": {
          "base_uri": "https://localhost:8080/",
          "height": 109
        },
        "id": "2bGpywFljQpl",
        "outputId": "e0848dcb-5eff-49ba-d2cd-5c56e027d387"
      },
      "outputs": [
        {
          "name": "stdout",
          "output_type": "stream",
          "text": [
            "P(Disease): 0.02\n",
            "P(Positive|Disease): 0.95\n",
            "P(Positive|No Disease): 0.05\n",
            "P(Positive)0.06\n"
          ]
        },
        {
          "output_type": "execute_result",
          "data": {
            "text/plain": [
              "'Posterior Probability 0.31666666666666665'"
            ],
            "application/vnd.google.colaboratory.intrinsic+json": {
              "type": "string"
            }
          },
          "metadata": {},
          "execution_count": 2
        }
      ],
      "source": [
        "def bayerian_theorem():\n",
        "  p_disease = float(input(\"P(Disease): \"))\n",
        "  p_pos_disease = float(input(\"P(Positive|Disease): \"))\n",
        "  p_pos_no_disease = float(input(\"P(Positive|No Disease): \"))\n",
        "  p_pos = float(input(\"P(Positive)\"))\n",
        "  p_disease_pos = (p_pos_disease * p_disease) / p_pos\n",
        "  return f\"Posterior Probability {p_disease_pos}\"\n",
        "\n",
        "bayerian_theorem()"
      ]
    },
    {
      "cell_type": "markdown",
      "source": [
        "###PART 3"
      ],
      "metadata": {
        "id": "RQI5myaqm9TR"
      }
    },
    {
      "cell_type": "code",
      "source": [
        "def uncertain_decision():\n",
        "  p_success = float(input(\"P(Success): \"))\n",
        "  benefit = float(input(\"Benefit: \"))\n",
        "  p_failure = float(input(\"P(Failure): \"))\n",
        "  loss = float(input(\"Loss: \"))\n",
        "\n",
        "  p_success = p_success/100\n",
        "  p_failure = p_failure/100\n",
        "\n",
        "  result = (p_success * benefit) + (p_failure * loss)\n",
        "  return f\"Result: {result}\"\n",
        "\n",
        "uncertain_decision()"
      ],
      "metadata": {
        "colab": {
          "base_uri": "https://localhost:8080/",
          "height": 109
        },
        "id": "LpgWdbqcm_Fr",
        "outputId": "8d4e0220-c112-40f0-df2a-cc763d612525"
      },
      "execution_count": 5,
      "outputs": [
        {
          "name": "stdout",
          "output_type": "stream",
          "text": [
            "P(Success): 70\n",
            "Benefit: 100\n",
            "P(Failure): 30\n",
            "Loss: -50\n"
          ]
        },
        {
          "output_type": "execute_result",
          "data": {
            "text/plain": [
              "'Result: 55.0'"
            ],
            "application/vnd.google.colaboratory.intrinsic+json": {
              "type": "string"
            }
          },
          "metadata": {},
          "execution_count": 5
        }
      ]
    },
    {
      "cell_type": "markdown",
      "source": [
        "###PART 4"
      ],
      "metadata": {
        "id": "-qcGioFqo79Z"
      }
    },
    {
      "cell_type": "code",
      "source": [
        "import numpy as np\n",
        "import matplotlib.pyplot as plt\n",
        "num_trials = int(input(\"Enter the number of trials: \"))\n",
        "prob_head = float(input(\"Enter the probability of heads: \"))\n",
        "prob_head = prob_head/100\n",
        "binomial_distributin = np.random.binomial(n=1, p=prob_head, size=num_trials)\n",
        "\n",
        "plt.hist(binomial_distributin, bins=2)\n",
        "plt.title(\"Binomial Distribution (Coin flips)\")\n",
        "plt.show()"
      ],
      "metadata": {
        "colab": {
          "base_uri": "https://localhost:8080/",
          "height": 489
        },
        "id": "ALzkkV2QVDJR",
        "outputId": "70c00224-5fca-43ca-98f0-e87b846ed266"
      },
      "execution_count": 9,
      "outputs": [
        {
          "name": "stdout",
          "output_type": "stream",
          "text": [
            "Enter the number of trials: 5\n",
            "Enter the probability of heads: 50\n"
          ]
        },
        {
          "output_type": "display_data",
          "data": {
            "text/plain": [
              "<Figure size 640x480 with 1 Axes>"
            ],
            "image/png": "[encoded data removed]"
          },
          "metadata": {}
        }
      ]
    },
    {
      "cell_type": "markdown",
      "source": [
        "###PART 5"
      ],
      "metadata": {
        "id": "lOEQQTClpnNl"
      }
    },
    {
      "cell_type": "markdown",
      "source": [
        "##REFLECTION\n",
        "\n",
        "Understanding probability theory helps doctors make better decisions. It helps them know how likely a person has a disease based on symptoms and tests. Doctors can combine what they know about common diseases and test results to decide if a patient is sick. This way, they can avoid mistakes and choose the right treatment."
      ],
      "metadata": {
        "id": "JSNYv5uWprAV"
      }
    }
  ]
}