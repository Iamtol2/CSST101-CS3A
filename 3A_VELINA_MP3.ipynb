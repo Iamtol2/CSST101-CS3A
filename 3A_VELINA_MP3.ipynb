{
  "nbformat": 4,
  "nbformat_minor": 0,
  "metadata": {
    "colab": {
      "provenance": []
    },
    "kernelspec": {
      "name": "python3",
      "display_name": "Python 3"
    },
    "language_info": {
      "name": "python"
    }
  },
  "cells": [
    {
      "cell_type": "code",
      "execution_count": 27,
      "metadata": {
        "id": "0a6DhAB2SXcZ"
      },
      "outputs": [],
      "source": [
        "import numpy as np\n",
        "import matplotlib.pyplot as plt\n",
        "from scipy.stats import binom, norm"
      ]
    },
    {
      "cell_type": "code",
      "source": [
        "def joint_probabiliuty(p_A, p_B):\n",
        "  return p_A * p_B\n",
        "def marginal_probability(p_A, p_B):\n",
        "  return p_A + p_B - joint_probabiliuty(p_A, p_B)\n",
        "def conditional_probability(p_B_given_A, p_A, p_B):\n",
        "  return (p_B_given_A * p_A) / p_B\n",
        "def bayesian_inference(a, b, c):\n",
        "  result = (b * a) / c\n",
        "  return result"
      ],
      "metadata": {
        "id": "j64PYwavSxkR"
      },
      "execution_count": 3,
      "outputs": []
    },
    {
      "cell_type": "markdown",
      "source": [
        "PART 1"
      ],
      "metadata": {
        "id": "lrMh_GO7SZ6I"
      }
    },
    {
      "cell_type": "code",
      "source": [
        "def part1():\n",
        "    print(\"Part 1: Implement Basic Probability Calculations\")\n",
        "    prob_a = float(input(\"Enter probability of event A: \"))\n",
        "    prob_b = float(input(\"Enter probability of event B: \"))\n",
        "    prob_b_a = float(input(\"Enter probability of B given A: \"))\n",
        "\n",
        "    print(\"Joint Probability: \", joint_probabiliuty(prob_a, prob_b))\n",
        "    print(\"Marginal Probability: \", marginal_probability(prob_a,prob_b))\n",
        "    print(\"Conditional Probability: \", conditional_probability(prob_b_a,prob_a,prob_b))\n",
        "\n",
        "part1()"
      ],
      "metadata": {
        "colab": {
          "base_uri": "https://localhost:8080/"
        },
        "id": "LjYTCO19SZZw",
        "outputId": "baeed37e-cfaa-4102-e28f-151d72ed7944"
      },
      "execution_count": 4,
      "outputs": [
        {
          "output_type": "stream",
          "name": "stdout",
          "text": [
            "Part 1: Implement Basic Probability Calculations\n",
            "Enter probability of event A: 0.3\n",
            "Enter probability of event B: 0.4\n",
            "Enter probability of B given A: 0.8\n",
            "Joint Probability:  0.12\n",
            "Marginal Probability:  0.58\n",
            "Conditional Probability:  0.6\n"
          ]
        }
      ]
    },
    {
      "cell_type": "markdown",
      "source": [
        "PART 2"
      ],
      "metadata": {
        "id": "a8nquKr6TEkj"
      }
    },
    {
      "cell_type": "code",
      "source": [
        "def part2():\n",
        "    print(\"Part 2: Bayesian Inference for Real-World Scenarios\")\n",
        "    prob_disease = float(input(\"Enter the prior probability of disease: \"))\n",
        "    like_pos_giv_disease = float(input(\"Enter the likelihood of a positive test given disease: \" ))\n",
        "    like_positive = float(input(\"Enter the overall probability of a positive test: \"))\n",
        "\n",
        "    print(\"Posterior Probability of disease given positive test: \", bayesian_inference(prob_disease,like_pos_giv_disease,like_positive))\n",
        "\n",
        "part2()"
      ],
      "metadata": {
        "colab": {
          "base_uri": "https://localhost:8080/"
        },
        "id": "fHRNnJEoSc22",
        "outputId": "12b71452-d620-4bd1-b69e-b010bdd61a39"
      },
      "execution_count": 7,
      "outputs": [
        {
          "output_type": "stream",
          "name": "stdout",
          "text": [
            "Part 2: Bayesian Inference for Real-World Scenarios\n",
            "Enter the prior probability of disease: 0.01\n",
            "Enter the likelihood of a positive test given disease: 0.9\n",
            "Enter the overall probability of a positive test: 0.05\n",
            "Posterior Probability of disease given positive test:  0.18000000000000002\n"
          ]
        }
      ]
    },
    {
      "cell_type": "markdown",
      "source": [
        "PART 3"
      ],
      "metadata": {
        "id": "oXppPsvoUXsY"
      }
    },
    {
      "cell_type": "code",
      "source": [
        "def part3():\n",
        "    print(\"Part 3: Simulate Decision-Making Under Uncertainty\")\n",
        "    p_sucess = float(input('Enter the probability of success: '))\n",
        "    reward_sucess = float(input(\"Enter the reward for success: \"))\n",
        "    reward_failure = float(input(\"Enter the penalty for failure: \"))\n",
        "    num_simulations = int(input(\"Enter the number of Simulation: \"))\n",
        "    outcome = []\n",
        "    for _ in range(num_simulations):\n",
        "        if np.random.rand() < p_sucess:\n",
        "            outcome.append(reward_sucess)\n",
        "        else:\n",
        "            outcome.append(reward_failure)\n",
        "    result = np.mean(outcome)\n",
        "    return f\"Expected value of decision: {result}\"\n",
        "part3()"
      ],
      "metadata": {
        "colab": {
          "base_uri": "https://localhost:8080/",
          "height": 127
        },
        "id": "McWPg4p6S4WE",
        "outputId": "f762bef1-e4cb-4503-c03f-80ab40a2f86d"
      },
      "execution_count": 14,
      "outputs": [
        {
          "name": "stdout",
          "output_type": "stream",
          "text": [
            "Part 3: Simulate Decision-Making Under Uncertainty\n",
            "Enter the probability of success: 0.7\n",
            "Enter the reward for success: 1000\n",
            "Enter the penalty for failure: -500\n",
            "Enter the number of Simulation: 1000\n"
          ]
        },
        {
          "output_type": "execute_result",
          "data": {
            "text/plain": [
              "'Expected value of decision: 548.5'"
            ],
            "application/vnd.google.colaboratory.intrinsic+json": {
              "type": "string"
            }
          },
          "metadata": {},
          "execution_count": 14
        }
      ]
    },
    {
      "cell_type": "markdown",
      "source": [
        "PART 4"
      ],
      "metadata": {
        "id": "V6xf0OrPUaCh"
      }
    },
    {
      "cell_type": "code",
      "source": [
        "def part4():\n",
        "  print(\"Choose a distribution to Stimulate:\")\n",
        "  print(\"1. Binomial (Coin flips)\")\n",
        "  print(\"2. Normal (Exam scores)\")\n",
        "  simulation = int(input())\n",
        "  if simulation == 1:\n",
        "      num_trials = int(input(\"Enter the number of trials: \"))\n",
        "      prob_head = float(input(\"Enter the probability of heads: \"))\n",
        "      binomial_distributin = np.random.binomial(n=1, p=prob_head, size=num_trials)\n",
        "\n",
        "      plt.hist(binomial_distributin, bins=2)\n",
        "      plt.title(\"Binomial Distribution (Coin flips)\")\n",
        "      plt.show()\n",
        "  elif simulation == 2:\n",
        "    mean = float(input(\"Enter the mean score: \"))\n",
        "    std = float(input(\"Enter the standard deviation of the scores: \"))\n",
        "\n",
        "    # Create the normal distribution\n",
        "    x = np.linspace(mean - 4*std, mean + 4*std, 1000)\n",
        "    normal_dist = norm.pdf(x, mean, std)\n",
        "\n",
        "    # Plot the normal distribution\n",
        "    plt.plot(x, normal_dist)\n",
        "    plt.title(\"Normal Distribution (Exam Scores)\")\n",
        "    plt.xlabel(\"Score\")\n",
        "    plt.ylabel(\"Probability Density\")\n",
        "    plt.show()\n",
        "  else:\n",
        "    print(\"Invalid Input\")\n",
        "\n",
        "part4()"
      ],
      "metadata": {
        "colab": {
          "base_uri": "https://localhost:8080/",
          "height": 582
        },
        "id": "ALzkkV2QVDJR",
        "outputId": "fd56e3f8-ace8-4ad9-f0bf-b3954008d1e3"
      },
      "execution_count": 28,
      "outputs": [
        {
          "name": "stdout",
          "output_type": "stream",
          "text": [
            "Choose a distribution to Stimulate:\n",
            "1. Binomial (Coin flips)\n",
            "2. Normal (Exam scores)\n",
            "2\n",
            "Enter the mean score: 95\n",
            "Enter the standard deviation of the scores: 232\n"
          ]
        },
        {
          "output_type": "display_data",
          "data": {
            "text/plain": [
              "<Figure size 640x480 with 1 Axes>"
            ],
            "image/png": "[encoded data removed]"
          },
          "metadata": {}
        }
      ]
    },
    {
      "cell_type": "markdown",
      "source": [
        "PART 5"
      ],
      "metadata": {
        "id": "rnwCkW2vatj4"
      }
    },
    {
      "cell_type": "code",
      "source": [
        "def part5():\n",
        "    humidity = float(input(\"Enter the humidity level (0 to 1): \"))\n",
        "    cloud_cover = float(input(\"Enter the cloud cover level (0 to 1): \"))\n",
        "\n",
        "    probability_of_rain = humidity * cloud_cover\n",
        "    return f\"Probability of Rain: {probability_of_rain}\"\n",
        "\n",
        "part5()"
      ],
      "metadata": {
        "colab": {
          "base_uri": "https://localhost:8080/",
          "height": 72
        },
        "id": "mVOC903fZnVo",
        "outputId": "f81de0ce-6b5a-4821-c472-1fbac71b04ca"
      },
      "execution_count": 30,
      "outputs": [
        {
          "name": "stdout",
          "output_type": "stream",
          "text": [
            "Enter the humidity level (0 to 1): 0.8\n",
            "Enter the cloud cover level (0 to 1): 0.6\n"
          ]
        },
        {
          "output_type": "execute_result",
          "data": {
            "text/plain": [
              "'Probability of Rain: 0.48'"
            ],
            "application/vnd.google.colaboratory.intrinsic+json": {
              "type": "string"
            }
          },
          "metadata": {},
          "execution_count": 30
        }
      ]
    },
    {
      "cell_type": "code",
      "source": [],
      "metadata": {
        "id": "wxjhld3haxTm"
      },
      "execution_count": null,
      "outputs": []
    }
  ]
}